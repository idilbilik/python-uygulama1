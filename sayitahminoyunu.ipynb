{
 "cells": [
  {
   "cell_type": "code",
   "execution_count": 32,
   "metadata": {},
   "outputs": [
    {
     "name": "stdout",
     "output_type": "stream",
     "text": [
      "Sayı tahmin oyunu için bir tahminde bulundunuz: 40 \n",
      "Üzgünüm daha büyük bir sayı tahmininde bulunmalısın. \n",
      "Sayı tahmin oyunu için bir tahminde bulundunuz: 60 \n",
      "Üzgünüm daha büyük bir sayı tahmininde bulunmalısın. \n",
      "Sayı tahmin oyunu için bir tahminde bulundunuz: 65 \n",
      "Üzgünüm daha büyük bir sayı tahmininde bulunmalısın. \n",
      "Sayı tahmin oyunu için bir tahminde bulundunuz: 70 \n",
      "Üzgünüm daha büyük bir sayı tahmininde bulunmalısın. \n",
      "Sayı tahmin oyunu için bir tahminde bulundunuz: 80 \n",
      "Üzgünüm daha büyük bir sayı tahmininde bulunmalısın. \n",
      "Sayı tahmin oyunu için bir tahminde bulundunuz: 90 \n",
      "Üzgünüm daha büyük bir sayı tahmininde bulunmalısın. \n",
      "Sayı tahmin oyunu için bir tahminde bulundunuz: 92 \n",
      "Üzgünüm daha büyük bir sayı tahmininde bulunmalısın. \n",
      "Tebrikler, 8. denemede doğru tahminde bulundunuz!!\n"
     ]
    }
   ],
   "source": [
    "import random\n",
    "\n",
    "def guess(num):\n",
    "    count = 1\n",
    "    random_number = int(input(\"Sayı tahmin oyunu için bir tahminde bulunun. \"))\n",
    "    \n",
    "    while num != random_number:\n",
    "        print(f\"Sayı tahmin oyunu için bir tahminde bulundunuz: {random_number} \")\n",
    "        count += 1\n",
    "        if num < random_number:\n",
    "            print(\"Üzgünüm daha küçük sayı tahmininde bulunmalısın.\")\n",
    "        else:\n",
    "            print(\"Üzgünüm daha büyük bir sayı tahmininde bulunmalısın. \")\n",
    "        random_number = int(input(\"Sayı tahmin oyunu için bir tahminde bulunun \"))\n",
    "    if count == 1:\n",
    "        print(\"Tebrikler, Sayı tahmin oyununda gerçekten çok iyisin!\")\n",
    "    elif count <4:\n",
    "        print(\"Eh işte iyi sayılırsın!\")\n",
    "    else:\n",
    "       print(f\"Tebrikler, {count}. denemede doğru tahminde bulundunuz!!\")   \n",
    "guess(random.randint(1,100))"
   ]
  },
  {
   "cell_type": "markdown",
   "metadata": {},
   "source": [
    "**Bilgisayar ile Sayı Tahmin Oyunu**"
   ]
  },
  {
   "cell_type": "code",
   "execution_count": 33,
   "metadata": {},
   "outputs": [
    {
     "name": "stdout",
     "output_type": "stream",
     "text": [
      "Doğru tahmin: 50\n"
     ]
    }
   ],
   "source": [
    "import random\n",
    "\n",
    "def computer_guess(num):   \n",
    "    start, end = 1, 100\n",
    "    back = ''\n",
    "    while back != \"d\":\n",
    "        if start <= end:\n",
    "           guess = random.randint(start, end)\n",
    "        else:\n",
    "            guess = start \n",
    "\n",
    "        back = input(f\"Tahminde bulunduğum değer {guess}, aklından tuttuğun değerden büyükse b ,küçükse k, eşitse d ifadesini gir. \").lower()\n",
    "        if back == 'b' :\n",
    "            end = guess - 1\n",
    "        elif back == 'k':\n",
    "            start = guess + 1\n",
    "        elif back != 'd':       \n",
    "            print(\"Yanlış ifade kullandınız.\")\n",
    "            break\n",
    "    print(f\"Doğru tahmin: {guess}\")\n",
    "computer_guess(9) "
   ]
  }
 ],
 "metadata": {
  "interpreter": {
   "hash": "ad2bdc8ecc057115af97d19610ffacc2b4e99fae6737bb82f5d7fb13d2f2c186"
  },
  "kernelspec": {
   "display_name": "Python 3.9.12 ('base')",
   "language": "python",
   "name": "python3"
  },
  "language_info": {
   "codemirror_mode": {
    "name": "ipython",
    "version": 3
   },
   "file_extension": ".py",
   "mimetype": "text/x-python",
   "name": "python",
   "nbconvert_exporter": "python",
   "pygments_lexer": "ipython3",
   "version": "3.9.12"
  },
  "orig_nbformat": 4
 },
 "nbformat": 4,
 "nbformat_minor": 2
}
